{
  "nbformat": 4,
  "nbformat_minor": 0,
  "metadata": {
    "colab": {
      "name": "exam_V3DMI5_2020.ipynb.txt",
      "provenance": [],
      "collapsed_sections": [],
      "include_colab_link": true
    },
    "kernelspec": {
      "name": "python3",
      "display_name": "Python 3"
    }
  },
  "cells": [
    {
      "cell_type": "markdown",
      "metadata": {
        "id": "view-in-github",
        "colab_type": "text"
      },
      "source": [
        "<a href=\"https://colab.research.google.com/github/Alexandre0702/TP-Analyse-multidimentionnelle/blob/Alexandre/exam_V3DMI5_2020_ipynb_txt.ipynb\" target=\"_parent\"><img src=\"https://colab.research.google.com/assets/colab-badge.svg\" alt=\"Open In Colab\"/></a>"
      ]
    },
    {
      "cell_type": "markdown",
      "metadata": {
        "id": "Jet8S7c0Hppu"
      },
      "source": [
        "# Analyse de données multidimensionnelles\n",
        "## Chaillou Alexandre \n",
        "Notebook disponible sur GitHub : https://github.com/Alexandre0702/TP-Analyse-multidimentionnelle/blob/Alexandre/exam_V3DMI5_2020_ipynb_txt.ipynb\n",
        "\n",
        "# Sujet de l'examen Final 2020 du Cours V3DMI5\n",
        "\n",
        "---\n",
        "Ce notebook contient votre compte-rendu pour l'examen. Il s'agit d'un travail __individuel__ que vous devez finir dans le temps imparti. Vous devez impérativement sauvegarder votre travail sous la forme d'un fichier  au format *.ipynb (Menu: Fichier / Télécharger le fichier .ipynb) et le téléverser sur Moodle avant l'heure limite de 10h45 (prévoir quelques minutes car l'outil Moodle se bloque automatiquement à 10h45).\n",
        "\n",
        " <img src=\"https://lca-icsi.com/wp-content/uploads/2016/04/warning.png\" alt=\"attention\" height=\"42\" width=\"42\" align=\"top\"> \n",
        " \n",
        " __Toute communication entre vous ou des extérieurs durant la durée de ce TP est interdite.__\n",
        "\n",
        "Vous avez par contre le droit\n",
        "* de vous aider de forums ou de sites quelconques internet.\n",
        "* De copier-coller du code. Dans ce cas, vous devez indiquer la source du programme de manière correcte (et comme pour le reste: commenter en français chaque ligne).\n",
        "* De me demander de l'aide sur Discord en cas de blocage majeur.\n",
        "\n",
        "\n",
        "Les critères de notation sont:\n",
        "* La qualité des commentaires détaillés et en français de __chaque ligne__ du programme.\n",
        "* Un code bien structuré et lisible.\n",
        "* L'exactitude des résultats\n",
        "---"
      ]
    },
    {
      "cell_type": "markdown",
      "metadata": {
        "id": "cM9blGyyzTGR"
      },
      "source": [
        "# Travail demandé\n",
        "\n",
        "1. Récupérer sous forme de tableau `numpy` les données du fichier http://biostatisticien.eu/Nobel_avecMath.csv qui contient le nombre de prix nobel et la taille de la population (en millions d'habitants) pour plusieurs pays ou grandes régions du monde. Utiliser la fonction `read_csv` de la librairie `pandas` et stocker le tableau dans un objet nommé `data_nobel`. (1 point)\n"
      ]
    },
    {
      "cell_type": "code",
      "metadata": {
        "id": "03FKq-1T6rTR"
      },
      "source": [
        "#Importation de la librairie nécessaire\n",
        "import pandas as pd\n",
        "import numpy as np\n",
        "#Importation à l'aide de l'url des données, en ajoutant le séparateur présent et le type d'encodage\n",
        "data_nobel = pd.read_csv('http://biostatisticien.eu/Nobel_avecMath.csv', encoding='latin-1', sep=';')"
      ],
      "execution_count": 61,
      "outputs": []
    },
    {
      "cell_type": "markdown",
      "metadata": {
        "id": "rI9cu69J7jHC"
      },
      "source": [
        "2. Afficher les premières lignes de ce fichier. (1 point)"
      ]
    },
    {
      "cell_type": "code",
      "metadata": {
        "id": "tVhgg0va7oOB",
        "colab": {
          "base_uri": "https://localhost:8080/",
          "height": 204
        },
        "outputId": "06c4e844-578f-421c-890b-d790de204b52"
      },
      "source": [
        "# Affichage des 5 premières lignes\n",
        "data_nobel.head()"
      ],
      "execution_count": 62,
      "outputs": [
        {
          "output_type": "execute_result",
          "data": {
            "text/html": [
              "<div>\n",
              "<style scoped>\n",
              "    .dataframe tbody tr th:only-of-type {\n",
              "        vertical-align: middle;\n",
              "    }\n",
              "\n",
              "    .dataframe tbody tr th {\n",
              "        vertical-align: top;\n",
              "    }\n",
              "\n",
              "    .dataframe thead th {\n",
              "        text-align: right;\n",
              "    }\n",
              "</style>\n",
              "<table border=\"1\" class=\"dataframe\">\n",
              "  <thead>\n",
              "    <tr style=\"text-align: right;\">\n",
              "      <th></th>\n",
              "      <th>Unnamed: 0</th>\n",
              "      <th>Chimie</th>\n",
              "      <th>Economie</th>\n",
              "      <th>Littérature</th>\n",
              "      <th>Médecine</th>\n",
              "      <th>Paix</th>\n",
              "      <th>Physique</th>\n",
              "      <th>Mathématiques</th>\n",
              "      <th>Population</th>\n",
              "    </tr>\n",
              "  </thead>\n",
              "  <tbody>\n",
              "    <tr>\n",
              "      <th>0</th>\n",
              "      <td>Allemagne</td>\n",
              "      <td>24</td>\n",
              "      <td>1</td>\n",
              "      <td>8</td>\n",
              "      <td>18</td>\n",
              "      <td>5</td>\n",
              "      <td>24</td>\n",
              "      <td>1</td>\n",
              "      <td>83.02</td>\n",
              "    </tr>\n",
              "    <tr>\n",
              "      <th>1</th>\n",
              "      <td>Canada</td>\n",
              "      <td>4</td>\n",
              "      <td>3</td>\n",
              "      <td>2</td>\n",
              "      <td>4</td>\n",
              "      <td>1</td>\n",
              "      <td>4</td>\n",
              "      <td>1</td>\n",
              "      <td>37.59</td>\n",
              "    </tr>\n",
              "    <tr>\n",
              "      <th>2</th>\n",
              "      <td>France</td>\n",
              "      <td>8</td>\n",
              "      <td>3</td>\n",
              "      <td>11</td>\n",
              "      <td>12</td>\n",
              "      <td>10</td>\n",
              "      <td>9</td>\n",
              "      <td>11</td>\n",
              "      <td>66.99</td>\n",
              "    </tr>\n",
              "    <tr>\n",
              "      <th>3</th>\n",
              "      <td>GB</td>\n",
              "      <td>23</td>\n",
              "      <td>6</td>\n",
              "      <td>7</td>\n",
              "      <td>26</td>\n",
              "      <td>11</td>\n",
              "      <td>20</td>\n",
              "      <td>4</td>\n",
              "      <td>66.65</td>\n",
              "    </tr>\n",
              "    <tr>\n",
              "      <th>4</th>\n",
              "      <td>Italie</td>\n",
              "      <td>1</td>\n",
              "      <td>1</td>\n",
              "      <td>6</td>\n",
              "      <td>5</td>\n",
              "      <td>1</td>\n",
              "      <td>5</td>\n",
              "      <td>1</td>\n",
              "      <td>60.36</td>\n",
              "    </tr>\n",
              "  </tbody>\n",
              "</table>\n",
              "</div>"
            ],
            "text/plain": [
              "  Unnamed: 0  Chimie  Economie  ...  Physique  Mathématiques  Population\n",
              "0  Allemagne      24         1  ...        24              1       83.02\n",
              "1     Canada       4         3  ...         4              1       37.59\n",
              "2     France       8         3  ...         9             11       66.99\n",
              "3         GB      23         6  ...        20              4       66.65\n",
              "4     Italie       1         1  ...         5              1       60.36\n",
              "\n",
              "[5 rows x 9 columns]"
            ]
          },
          "metadata": {
            "tags": []
          },
          "execution_count": 62
        }
      ]
    },
    {
      "cell_type": "markdown",
      "metadata": {
        "id": "-m3ork7K8L3J"
      },
      "source": [
        "3. Renommer la première colonne avec l'intitulé \"Pays ou région\", puis choisir cette colonne comme index et afficher les premieres lignes de la table ainsi modifiée. (1 point)"
      ]
    },
    {
      "cell_type": "code",
      "metadata": {
        "id": "8Q0Qh4il8ldU",
        "colab": {
          "base_uri": "https://localhost:8080/",
          "height": 235
        },
        "outputId": "8676d06a-c150-45f9-d02e-da6dfce67035"
      },
      "source": [
        "# On renomme d'abord l'intitulé de la première avec 'Pays ou région'\n",
        "data_nobel = data_nobel.rename(columns={data_nobel.columns[0]:'Pays ou région'})\n",
        "# On réindexe avec ce nouvel intitulé et affichage des premières lignes\n",
        "data_nobel = data_nobel.set_index('Pays ou région')\n",
        "data_nobel.head()"
      ],
      "execution_count": 63,
      "outputs": [
        {
          "output_type": "execute_result",
          "data": {
            "text/html": [
              "<div>\n",
              "<style scoped>\n",
              "    .dataframe tbody tr th:only-of-type {\n",
              "        vertical-align: middle;\n",
              "    }\n",
              "\n",
              "    .dataframe tbody tr th {\n",
              "        vertical-align: top;\n",
              "    }\n",
              "\n",
              "    .dataframe thead th {\n",
              "        text-align: right;\n",
              "    }\n",
              "</style>\n",
              "<table border=\"1\" class=\"dataframe\">\n",
              "  <thead>\n",
              "    <tr style=\"text-align: right;\">\n",
              "      <th></th>\n",
              "      <th>Chimie</th>\n",
              "      <th>Economie</th>\n",
              "      <th>Littérature</th>\n",
              "      <th>Médecine</th>\n",
              "      <th>Paix</th>\n",
              "      <th>Physique</th>\n",
              "      <th>Mathématiques</th>\n",
              "      <th>Population</th>\n",
              "    </tr>\n",
              "    <tr>\n",
              "      <th>Pays ou région</th>\n",
              "      <th></th>\n",
              "      <th></th>\n",
              "      <th></th>\n",
              "      <th></th>\n",
              "      <th></th>\n",
              "      <th></th>\n",
              "      <th></th>\n",
              "      <th></th>\n",
              "    </tr>\n",
              "  </thead>\n",
              "  <tbody>\n",
              "    <tr>\n",
              "      <th>Allemagne</th>\n",
              "      <td>24</td>\n",
              "      <td>1</td>\n",
              "      <td>8</td>\n",
              "      <td>18</td>\n",
              "      <td>5</td>\n",
              "      <td>24</td>\n",
              "      <td>1</td>\n",
              "      <td>83.02</td>\n",
              "    </tr>\n",
              "    <tr>\n",
              "      <th>Canada</th>\n",
              "      <td>4</td>\n",
              "      <td>3</td>\n",
              "      <td>2</td>\n",
              "      <td>4</td>\n",
              "      <td>1</td>\n",
              "      <td>4</td>\n",
              "      <td>1</td>\n",
              "      <td>37.59</td>\n",
              "    </tr>\n",
              "    <tr>\n",
              "      <th>France</th>\n",
              "      <td>8</td>\n",
              "      <td>3</td>\n",
              "      <td>11</td>\n",
              "      <td>12</td>\n",
              "      <td>10</td>\n",
              "      <td>9</td>\n",
              "      <td>11</td>\n",
              "      <td>66.99</td>\n",
              "    </tr>\n",
              "    <tr>\n",
              "      <th>GB</th>\n",
              "      <td>23</td>\n",
              "      <td>6</td>\n",
              "      <td>7</td>\n",
              "      <td>26</td>\n",
              "      <td>11</td>\n",
              "      <td>20</td>\n",
              "      <td>4</td>\n",
              "      <td>66.65</td>\n",
              "    </tr>\n",
              "    <tr>\n",
              "      <th>Italie</th>\n",
              "      <td>1</td>\n",
              "      <td>1</td>\n",
              "      <td>6</td>\n",
              "      <td>5</td>\n",
              "      <td>1</td>\n",
              "      <td>5</td>\n",
              "      <td>1</td>\n",
              "      <td>60.36</td>\n",
              "    </tr>\n",
              "  </tbody>\n",
              "</table>\n",
              "</div>"
            ],
            "text/plain": [
              "                Chimie  Economie  ...  Mathématiques  Population\n",
              "Pays ou région                    ...                           \n",
              "Allemagne           24         1  ...              1       83.02\n",
              "Canada               4         3  ...              1       37.59\n",
              "France               8         3  ...             11       66.99\n",
              "GB                  23         6  ...              4       66.65\n",
              "Italie               1         1  ...              1       60.36\n",
              "\n",
              "[5 rows x 8 columns]"
            ]
          },
          "metadata": {
            "tags": []
          },
          "execution_count": 63
        }
      ]
    },
    {
      "cell_type": "markdown",
      "metadata": {
        "id": "BtZqKug8839t"
      },
      "source": [
        "4. Afficher une description numerique de toutes les variables comme vu dans le cours (1 point)"
      ]
    },
    {
      "cell_type": "code",
      "metadata": {
        "id": "buMDnMDn89PZ",
        "colab": {
          "base_uri": "https://localhost:8080/",
          "height": 297
        },
        "outputId": "27b5329b-73ff-45be-e9b7-3fe20385cdaa"
      },
      "source": [
        "# Utilisation de la fonction describe pour afficher par variable les informations statistiques classiques\n",
        "data_nobel.describe()"
      ],
      "execution_count": 26,
      "outputs": [
        {
          "output_type": "execute_result",
          "data": {
            "text/html": [
              "<div>\n",
              "<style scoped>\n",
              "    .dataframe tbody tr th:only-of-type {\n",
              "        vertical-align: middle;\n",
              "    }\n",
              "\n",
              "    .dataframe tbody tr th {\n",
              "        vertical-align: top;\n",
              "    }\n",
              "\n",
              "    .dataframe thead th {\n",
              "        text-align: right;\n",
              "    }\n",
              "</style>\n",
              "<table border=\"1\" class=\"dataframe\">\n",
              "  <thead>\n",
              "    <tr style=\"text-align: right;\">\n",
              "      <th></th>\n",
              "      <th>Chimie</th>\n",
              "      <th>Economie</th>\n",
              "      <th>Littérature</th>\n",
              "      <th>Médecine</th>\n",
              "      <th>Paix</th>\n",
              "      <th>Physique</th>\n",
              "      <th>Mathématiques</th>\n",
              "      <th>Population</th>\n",
              "    </tr>\n",
              "  </thead>\n",
              "  <tbody>\n",
              "    <tr>\n",
              "      <th>count</th>\n",
              "      <td>13.000000</td>\n",
              "      <td>13.000000</td>\n",
              "      <td>13.000000</td>\n",
              "      <td>13.000000</td>\n",
              "      <td>13.000000</td>\n",
              "      <td>13.000000</td>\n",
              "      <td>13.000000</td>\n",
              "      <td>13.000000</td>\n",
              "    </tr>\n",
              "    <tr>\n",
              "      <th>mean</th>\n",
              "      <td>22.461538</td>\n",
              "      <td>10.384615</td>\n",
              "      <td>12.384615</td>\n",
              "      <td>26.692308</td>\n",
              "      <td>11.615385</td>\n",
              "      <td>26.538462</td>\n",
              "      <td>7.846154</td>\n",
              "      <td>644.191308</td>\n",
              "    </tr>\n",
              "    <tr>\n",
              "      <th>std</th>\n",
              "      <td>28.212336</td>\n",
              "      <td>16.835174</td>\n",
              "      <td>20.540766</td>\n",
              "      <td>35.541958</td>\n",
              "      <td>14.174734</td>\n",
              "      <td>32.141913</td>\n",
              "      <td>9.281219</td>\n",
              "      <td>1215.280236</td>\n",
              "    </tr>\n",
              "    <tr>\n",
              "      <th>min</th>\n",
              "      <td>1.000000</td>\n",
              "      <td>0.000000</td>\n",
              "      <td>0.000000</td>\n",
              "      <td>2.000000</td>\n",
              "      <td>0.000000</td>\n",
              "      <td>2.000000</td>\n",
              "      <td>1.000000</td>\n",
              "      <td>37.590000</td>\n",
              "    </tr>\n",
              "    <tr>\n",
              "      <th>25%</th>\n",
              "      <td>4.000000</td>\n",
              "      <td>1.000000</td>\n",
              "      <td>5.000000</td>\n",
              "      <td>4.000000</td>\n",
              "      <td>1.000000</td>\n",
              "      <td>5.000000</td>\n",
              "      <td>1.000000</td>\n",
              "      <td>66.650000</td>\n",
              "    </tr>\n",
              "    <tr>\n",
              "      <th>50%</th>\n",
              "      <td>8.000000</td>\n",
              "      <td>3.000000</td>\n",
              "      <td>7.000000</td>\n",
              "      <td>9.000000</td>\n",
              "      <td>8.000000</td>\n",
              "      <td>11.000000</td>\n",
              "      <td>4.000000</td>\n",
              "      <td>126.500000</td>\n",
              "    </tr>\n",
              "    <tr>\n",
              "      <th>75%</th>\n",
              "      <td>24.000000</td>\n",
              "      <td>6.000000</td>\n",
              "      <td>10.000000</td>\n",
              "      <td>26.000000</td>\n",
              "      <td>16.000000</td>\n",
              "      <td>24.000000</td>\n",
              "      <td>11.000000</td>\n",
              "      <td>741.400000</td>\n",
              "    </tr>\n",
              "    <tr>\n",
              "      <th>max</th>\n",
              "      <td>94.000000</td>\n",
              "      <td>47.000000</td>\n",
              "      <td>79.000000</td>\n",
              "      <td>110.000000</td>\n",
              "      <td>51.000000</td>\n",
              "      <td>103.000000</td>\n",
              "      <td>34.000000</td>\n",
              "      <td>4463.000000</td>\n",
              "    </tr>\n",
              "  </tbody>\n",
              "</table>\n",
              "</div>"
            ],
            "text/plain": [
              "          Chimie   Economie  ...  Mathématiques   Population\n",
              "count  13.000000  13.000000  ...      13.000000    13.000000\n",
              "mean   22.461538  10.384615  ...       7.846154   644.191308\n",
              "std    28.212336  16.835174  ...       9.281219  1215.280236\n",
              "min     1.000000   0.000000  ...       1.000000    37.590000\n",
              "25%     4.000000   1.000000  ...       1.000000    66.650000\n",
              "50%     8.000000   3.000000  ...       4.000000   126.500000\n",
              "75%    24.000000   6.000000  ...      11.000000   741.400000\n",
              "max    94.000000  47.000000  ...      34.000000  4463.000000\n",
              "\n",
              "[8 rows x 8 columns]"
            ]
          },
          "metadata": {
            "tags": []
          },
          "execution_count": 26
        }
      ]
    },
    {
      "cell_type": "markdown",
      "metadata": {
        "id": "i71SZkpzArCe"
      },
      "source": [
        "5. Afficher la liste des pays et régions. (1 point)"
      ]
    },
    {
      "cell_type": "code",
      "metadata": {
        "id": "K-hxDCqGAxwL",
        "colab": {
          "base_uri": "https://localhost:8080/"
        },
        "outputId": "2ad6e4d0-2740-4dea-d211-79ada5ea104b"
      },
      "source": [
        "# On ressort l'ensemble des index du dataframe qui sont ensuite stockées dans une liste\n",
        "data_nobel.index.tolist()"
      ],
      "execution_count": 30,
      "outputs": [
        {
          "output_type": "execute_result",
          "data": {
            "text/plain": [
              "['Allemagne',\n",
              " 'Canada',\n",
              " 'France',\n",
              " 'GB',\n",
              " 'Italie',\n",
              " 'Japon',\n",
              " 'Russie',\n",
              " 'USA',\n",
              " 'Afrique',\n",
              " 'Amérique',\n",
              " 'Asie',\n",
              " 'Europe',\n",
              " 'Océanie']"
            ]
          },
          "metadata": {
            "tags": []
          },
          "execution_count": 30
        }
      ]
    },
    {
      "cell_type": "markdown",
      "metadata": {
        "id": "cGvtf80t-QLA"
      },
      "source": [
        "6. En utilisant la fonction `at`, extraire et afficher le nombre de prix nobel de physique en Allemagne. (1 point)"
      ]
    },
    {
      "cell_type": "code",
      "metadata": {
        "id": "CKnZopPY-Z6F",
        "colab": {
          "base_uri": "https://localhost:8080/"
        },
        "outputId": "43b2ab6d-2200-4344-989e-9ea1f126d848"
      },
      "source": [
        "# Extraction de la donnée avec la fonction at\n",
        "nb_prixphys_all = data_nobel.at['Allemagne','Physique']\n",
        "# Affichage dans une chaîne de caratères avec la fonction format\n",
        "print('L\\'Allemagne accumule {} prix nobels de physique.'.format(nb_prixphys_all))"
      ],
      "execution_count": 46,
      "outputs": [
        {
          "output_type": "stream",
          "text": [
            "L'Allemagne accumule 24 prix nobels de physique.\n"
          ],
          "name": "stdout"
        }
      ]
    },
    {
      "cell_type": "markdown",
      "metadata": {
        "id": "R6jSK3wS_vDh"
      },
      "source": [
        "7. Extraire et afficher la sous-table du nombre de prix nobel en sciences (Chimie, Physique et Mathématiques) pour les seuls quatre pays européens (sans la région `Europe`). Utiliser la fonction `loc`. (1 point)"
      ]
    },
    {
      "cell_type": "code",
      "metadata": {
        "id": "ZJnufzRHAP8w",
        "colab": {
          "base_uri": "https://localhost:8080/",
          "height": 204
        },
        "outputId": "64768ed2-fdca-4535-f389-372fb687ebe0"
      },
      "source": [
        "# Je crée d'abord les listes de colonnes et index à extraire\n",
        "pays = ['Allemagne', 'France', 'GB', 'Italie']\n",
        "domaine = ['Chimie', 'Physique', 'Mathématiques']\n",
        "# Puis je l'insère dans la fonction loc\n",
        "data_nobel.loc[pays,domaine]"
      ],
      "execution_count": 41,
      "outputs": [
        {
          "output_type": "execute_result",
          "data": {
            "text/html": [
              "<div>\n",
              "<style scoped>\n",
              "    .dataframe tbody tr th:only-of-type {\n",
              "        vertical-align: middle;\n",
              "    }\n",
              "\n",
              "    .dataframe tbody tr th {\n",
              "        vertical-align: top;\n",
              "    }\n",
              "\n",
              "    .dataframe thead th {\n",
              "        text-align: right;\n",
              "    }\n",
              "</style>\n",
              "<table border=\"1\" class=\"dataframe\">\n",
              "  <thead>\n",
              "    <tr style=\"text-align: right;\">\n",
              "      <th></th>\n",
              "      <th>Chimie</th>\n",
              "      <th>Physique</th>\n",
              "      <th>Mathématiques</th>\n",
              "    </tr>\n",
              "    <tr>\n",
              "      <th>Pays ou région</th>\n",
              "      <th></th>\n",
              "      <th></th>\n",
              "      <th></th>\n",
              "    </tr>\n",
              "  </thead>\n",
              "  <tbody>\n",
              "    <tr>\n",
              "      <th>Allemagne</th>\n",
              "      <td>24</td>\n",
              "      <td>24</td>\n",
              "      <td>1</td>\n",
              "    </tr>\n",
              "    <tr>\n",
              "      <th>France</th>\n",
              "      <td>8</td>\n",
              "      <td>9</td>\n",
              "      <td>11</td>\n",
              "    </tr>\n",
              "    <tr>\n",
              "      <th>GB</th>\n",
              "      <td>23</td>\n",
              "      <td>20</td>\n",
              "      <td>4</td>\n",
              "    </tr>\n",
              "    <tr>\n",
              "      <th>Italie</th>\n",
              "      <td>1</td>\n",
              "      <td>5</td>\n",
              "      <td>1</td>\n",
              "    </tr>\n",
              "  </tbody>\n",
              "</table>\n",
              "</div>"
            ],
            "text/plain": [
              "                Chimie  Physique  Mathématiques\n",
              "Pays ou région                                 \n",
              "Allemagne           24        24              1\n",
              "France               8         9             11\n",
              "GB                  23        20              4\n",
              "Italie               1         5              1"
            ]
          },
          "metadata": {
            "tags": []
          },
          "execution_count": 41
        }
      ]
    },
    {
      "cell_type": "markdown",
      "metadata": {
        "id": "hcCGXFXYBxlA"
      },
      "source": [
        "8. Réorganiser toutes les données par taille croissante de la population et afficher l'ensemble des données ainsi réorganisées. (1 point)"
      ]
    },
    {
      "cell_type": "code",
      "metadata": {
        "id": "hQBlKimdCAQQ",
        "colab": {
          "base_uri": "https://localhost:8080/",
          "height": 483
        },
        "outputId": "9e776c79-7a19-4890-c904-1f8ec1b2b74b"
      },
      "source": [
        "# Choix de tri du dataframe sur la colonne popultion\n",
        "data_nobel.sort_values(by='Population')"
      ],
      "execution_count": 42,
      "outputs": [
        {
          "output_type": "execute_result",
          "data": {
            "text/html": [
              "<div>\n",
              "<style scoped>\n",
              "    .dataframe tbody tr th:only-of-type {\n",
              "        vertical-align: middle;\n",
              "    }\n",
              "\n",
              "    .dataframe tbody tr th {\n",
              "        vertical-align: top;\n",
              "    }\n",
              "\n",
              "    .dataframe thead th {\n",
              "        text-align: right;\n",
              "    }\n",
              "</style>\n",
              "<table border=\"1\" class=\"dataframe\">\n",
              "  <thead>\n",
              "    <tr style=\"text-align: right;\">\n",
              "      <th></th>\n",
              "      <th>Chimie</th>\n",
              "      <th>Economie</th>\n",
              "      <th>Littérature</th>\n",
              "      <th>Médecine</th>\n",
              "      <th>Paix</th>\n",
              "      <th>Physique</th>\n",
              "      <th>Mathématiques</th>\n",
              "      <th>Population</th>\n",
              "    </tr>\n",
              "    <tr>\n",
              "      <th>Pays ou région</th>\n",
              "      <th></th>\n",
              "      <th></th>\n",
              "      <th></th>\n",
              "      <th></th>\n",
              "      <th></th>\n",
              "      <th></th>\n",
              "      <th></th>\n",
              "      <th></th>\n",
              "    </tr>\n",
              "  </thead>\n",
              "  <tbody>\n",
              "    <tr>\n",
              "      <th>Canada</th>\n",
              "      <td>4</td>\n",
              "      <td>3</td>\n",
              "      <td>2</td>\n",
              "      <td>4</td>\n",
              "      <td>1</td>\n",
              "      <td>4</td>\n",
              "      <td>1</td>\n",
              "      <td>37.590</td>\n",
              "    </tr>\n",
              "    <tr>\n",
              "      <th>Océanie</th>\n",
              "      <td>3</td>\n",
              "      <td>0</td>\n",
              "      <td>0</td>\n",
              "      <td>9</td>\n",
              "      <td>0</td>\n",
              "      <td>2</td>\n",
              "      <td>2</td>\n",
              "      <td>38.277</td>\n",
              "    </tr>\n",
              "    <tr>\n",
              "      <th>Italie</th>\n",
              "      <td>1</td>\n",
              "      <td>1</td>\n",
              "      <td>6</td>\n",
              "      <td>5</td>\n",
              "      <td>1</td>\n",
              "      <td>5</td>\n",
              "      <td>1</td>\n",
              "      <td>60.360</td>\n",
              "    </tr>\n",
              "    <tr>\n",
              "      <th>GB</th>\n",
              "      <td>23</td>\n",
              "      <td>6</td>\n",
              "      <td>7</td>\n",
              "      <td>26</td>\n",
              "      <td>11</td>\n",
              "      <td>20</td>\n",
              "      <td>4</td>\n",
              "      <td>66.650</td>\n",
              "    </tr>\n",
              "    <tr>\n",
              "      <th>France</th>\n",
              "      <td>8</td>\n",
              "      <td>3</td>\n",
              "      <td>11</td>\n",
              "      <td>12</td>\n",
              "      <td>10</td>\n",
              "      <td>9</td>\n",
              "      <td>11</td>\n",
              "      <td>66.990</td>\n",
              "    </tr>\n",
              "    <tr>\n",
              "      <th>Allemagne</th>\n",
              "      <td>24</td>\n",
              "      <td>1</td>\n",
              "      <td>8</td>\n",
              "      <td>18</td>\n",
              "      <td>5</td>\n",
              "      <td>24</td>\n",
              "      <td>1</td>\n",
              "      <td>83.020</td>\n",
              "    </tr>\n",
              "    <tr>\n",
              "      <th>Japon</th>\n",
              "      <td>6</td>\n",
              "      <td>0</td>\n",
              "      <td>2</td>\n",
              "      <td>3</td>\n",
              "      <td>1</td>\n",
              "      <td>11</td>\n",
              "      <td>3</td>\n",
              "      <td>126.500</td>\n",
              "    </tr>\n",
              "    <tr>\n",
              "      <th>Russie</th>\n",
              "      <td>4</td>\n",
              "      <td>3</td>\n",
              "      <td>5</td>\n",
              "      <td>2</td>\n",
              "      <td>3</td>\n",
              "      <td>10</td>\n",
              "      <td>9</td>\n",
              "      <td>144.500</td>\n",
              "    </tr>\n",
              "    <tr>\n",
              "      <th>USA</th>\n",
              "      <td>51</td>\n",
              "      <td>43</td>\n",
              "      <td>8</td>\n",
              "      <td>70</td>\n",
              "      <td>19</td>\n",
              "      <td>66</td>\n",
              "      <td>13</td>\n",
              "      <td>328.200</td>\n",
              "    </tr>\n",
              "    <tr>\n",
              "      <th>Europe</th>\n",
              "      <td>94</td>\n",
              "      <td>26</td>\n",
              "      <td>79</td>\n",
              "      <td>110</td>\n",
              "      <td>51</td>\n",
              "      <td>103</td>\n",
              "      <td>34</td>\n",
              "      <td>741.400</td>\n",
              "    </tr>\n",
              "    <tr>\n",
              "      <th>Amérique</th>\n",
              "      <td>56</td>\n",
              "      <td>47</td>\n",
              "      <td>18</td>\n",
              "      <td>78</td>\n",
              "      <td>25</td>\n",
              "      <td>70</td>\n",
              "      <td>15</td>\n",
              "      <td>1002.000</td>\n",
              "    </tr>\n",
              "    <tr>\n",
              "      <th>Afrique</th>\n",
              "      <td>1</td>\n",
              "      <td>0</td>\n",
              "      <td>5</td>\n",
              "      <td>3</td>\n",
              "      <td>8</td>\n",
              "      <td>2</td>\n",
              "      <td>1</td>\n",
              "      <td>1216.000</td>\n",
              "    </tr>\n",
              "    <tr>\n",
              "      <th>Asie</th>\n",
              "      <td>17</td>\n",
              "      <td>2</td>\n",
              "      <td>10</td>\n",
              "      <td>7</td>\n",
              "      <td>16</td>\n",
              "      <td>19</td>\n",
              "      <td>7</td>\n",
              "      <td>4463.000</td>\n",
              "    </tr>\n",
              "  </tbody>\n",
              "</table>\n",
              "</div>"
            ],
            "text/plain": [
              "                Chimie  Economie  ...  Mathématiques  Population\n",
              "Pays ou région                    ...                           \n",
              "Canada               4         3  ...              1      37.590\n",
              "Océanie              3         0  ...              2      38.277\n",
              "Italie               1         1  ...              1      60.360\n",
              "GB                  23         6  ...              4      66.650\n",
              "France               8         3  ...             11      66.990\n",
              "Allemagne           24         1  ...              1      83.020\n",
              "Japon                6         0  ...              3     126.500\n",
              "Russie               4         3  ...              9     144.500\n",
              "USA                 51        43  ...             13     328.200\n",
              "Europe              94        26  ...             34     741.400\n",
              "Amérique            56        47  ...             15    1002.000\n",
              "Afrique              1         0  ...              1    1216.000\n",
              "Asie                17         2  ...              7    4463.000\n",
              "\n",
              "[13 rows x 8 columns]"
            ]
          },
          "metadata": {
            "tags": []
          },
          "execution_count": 42
        }
      ]
    },
    {
      "cell_type": "markdown",
      "metadata": {
        "id": "A7l66QrRCUk8"
      },
      "source": [
        "9. Faire un nuage de points (*scatter plot*) du nombre de prix nobel de mathématiques en fonction de la taille de la population. Inclure tous les pays et régions. Utiliser les librairies `seaborn` et `matplotlib`. Les noms des pays et régions seront visibles sur votre graphique et vos axes auront des labels. (1 point)"
      ]
    },
    {
      "cell_type": "code",
      "metadata": {
        "colab": {
          "base_uri": "https://localhost:8080/"
        },
        "id": "4ro9F-ee0Fdl",
        "outputId": "097b505b-213d-4776-faaa-f148f3706afc"
      },
      "source": [
        "# Téléchargement d'un package nécessaire à la question suivante\n",
        "!pip install adjusttext "
      ],
      "execution_count": 54,
      "outputs": [
        {
          "output_type": "stream",
          "text": [
            "Collecting adjusttext\n",
            "  Downloading https://files.pythonhosted.org/packages/9e/15/4157718bf323fd5f5b81c891c660d0f388e042d2689a558bf1389632dc44/adjustText-0.7.3.tar.gz\n",
            "Requirement already satisfied: numpy in /usr/local/lib/python3.6/dist-packages (from adjusttext) (1.18.5)\n",
            "Requirement already satisfied: matplotlib in /usr/local/lib/python3.6/dist-packages (from adjusttext) (3.2.2)\n",
            "Requirement already satisfied: python-dateutil>=2.1 in /usr/local/lib/python3.6/dist-packages (from matplotlib->adjusttext) (2.8.1)\n",
            "Requirement already satisfied: cycler>=0.10 in /usr/local/lib/python3.6/dist-packages (from matplotlib->adjusttext) (0.10.0)\n",
            "Requirement already satisfied: pyparsing!=2.0.4,!=2.1.2,!=2.1.6,>=2.0.1 in /usr/local/lib/python3.6/dist-packages (from matplotlib->adjusttext) (2.4.7)\n",
            "Requirement already satisfied: kiwisolver>=1.0.1 in /usr/local/lib/python3.6/dist-packages (from matplotlib->adjusttext) (1.3.1)\n",
            "Requirement already satisfied: six>=1.5 in /usr/local/lib/python3.6/dist-packages (from python-dateutil>=2.1->matplotlib->adjusttext) (1.15.0)\n",
            "Building wheels for collected packages: adjusttext\n",
            "  Building wheel for adjusttext (setup.py) ... \u001b[?25l\u001b[?25hdone\n",
            "  Created wheel for adjusttext: filename=adjustText-0.7.3-cp36-none-any.whl size=7099 sha256=2b1223111b429662f8e154f0ae309e368cc3b20df26b3b4468b391b2ca5e6e1d\n",
            "  Stored in directory: /root/.cache/pip/wheels/41/95/74/7d347e136d672f8bc28e937032bc92baf4f80856763a7e7b72\n",
            "Successfully built adjusttext\n",
            "Installing collected packages: adjusttext\n",
            "Successfully installed adjusttext-0.7.3\n"
          ],
          "name": "stdout"
        }
      ]
    },
    {
      "cell_type": "code",
      "metadata": {
        "id": "3vFeuTvFCs-7",
        "colab": {
          "base_uri": "https://localhost:8080/",
          "height": 458
        },
        "outputId": "e8d77fd2-a97b-4c2b-8950-dc47c54250f4"
      },
      "source": [
        "# Importation des packages nécessaires\n",
        "import seaborn as sns\n",
        "import matplotlib.pyplot as plt\n",
        "from adjustText import adjust_text\n",
        "\n",
        "# Initialisation de la taille de la figure, dessin des points, labellisation des axes, et ajout d'un titre\n",
        "plt.figure(figsize=(10,7))\n",
        "sns.scatterplot(x='Population', y='Mathématiques', data=data_nobel)\n",
        "plt.xlabel('Population [en million]')\n",
        "plt.ylabel('Prix Nobels')\n",
        "plt.title('Nombre de prix Nobels en fonction de la population des pays')\n",
        "\n",
        "#Code repris de mon TP1 et TP2\n",
        "#J'ajoute les étiquettes 'Pays ou région' sur chaque point\n",
        "libelles = []\n",
        "for i in range(len(data_nobel)):\n",
        "      libelles.append(plt.annotate(data_nobel.index[i], (data_nobel['Population'][i], data_nobel['Mathématiques'][i])))\n",
        "adjust_text(libelles)\n",
        "\n",
        "plt.show()"
      ],
      "execution_count": 115,
      "outputs": [
        {
          "output_type": "display_data",
          "data": {
            "image/png": "[encoded data removed]",
            "text/plain": [
              "<Figure size 720x504 with 1 Axes>"
            ]
          },
          "metadata": {
            "tags": [],
            "needs_background": "light"
          }
        }
      ]
    },
    {
      "cell_type": "markdown",
      "metadata": {
        "id": "zKvqpeYhFz5t"
      },
      "source": [
        "10. Calculer et afficher le vecteur des moyennes de toutes les colonnes du jeu de données. Utiliser la librarie `numpy`. (1 point)"
      ]
    },
    {
      "cell_type": "code",
      "metadata": {
        "id": "bzoFIXDqGFVo",
        "colab": {
          "base_uri": "https://localhost:8080/"
        },
        "outputId": "eaceb63c-a35f-486c-99ba-cd98997ddd73"
      },
      "source": [
        "# Je choisis de faire la moyenne par colonne\n",
        "mean_vec = np.mean(data_nobel, axis=0)\n",
        "mean_vec"
      ],
      "execution_count": 69,
      "outputs": [
        {
          "output_type": "execute_result",
          "data": {
            "text/plain": [
              "Chimie            22.461538\n",
              "Economie          10.384615\n",
              "Littérature       12.384615\n",
              "Médecine          26.692308\n",
              "Paix              11.615385\n",
              "Physique          26.538462\n",
              "Mathématiques      7.846154\n",
              "Population       644.191308\n",
              "dtype: float64"
            ]
          },
          "metadata": {
            "tags": []
          },
          "execution_count": 69
        }
      ]
    },
    {
      "cell_type": "markdown",
      "metadata": {
        "id": "h-1mV_zrGrkn"
      },
      "source": [
        "11. Calculer et afficher le vecteur des écart-types de toutes les colonnes du jeu de données. Utiliser la librarie `numpy`. (1 point)"
      ]
    },
    {
      "cell_type": "code",
      "metadata": {
        "id": "h3un0NCWGyEr",
        "colab": {
          "base_uri": "https://localhost:8080/"
        },
        "outputId": "f0bc4869-ecef-43c3-85e5-99aa75a44908"
      },
      "source": [
        "# Je choisis de fair le calcul des écarts-type par colonne\n",
        "std_vec = np.std(data_nobel, axis=0)\n",
        "std_vec"
      ],
      "execution_count": 70,
      "outputs": [
        {
          "output_type": "execute_result",
          "data": {
            "text/plain": [
              "Chimie             27.105536\n",
              "Economie           16.174712\n",
              "Littérature        19.734930\n",
              "Médecine           34.147609\n",
              "Paix               13.618644\n",
              "Physique           30.880951\n",
              "Mathématiques       8.917107\n",
              "Population       1167.603484\n",
              "dtype: float64"
            ]
          },
          "metadata": {
            "tags": []
          },
          "execution_count": 70
        }
      ]
    },
    {
      "cell_type": "markdown",
      "metadata": {
        "id": "TmFo5de5G_Gl"
      },
      "source": [
        "12. Calculer la matrice des données centrées-réduites et stocker la dans un objet nommé `X`. Vous pouvez soit utiliser les moyennes et écart-types calculés aux questions 10 et 11, soit utiliser une fonction de la librairie `sklearn` que nous avons vue en cours (auquel cas vous pouvez vérifier les valeurs trouvées aux deux questions précédentes.) Il est bon de noter que les fonctions `DataFrame` et `to_markdown` de la librairie `pandas` vous permettent d'obtenir un affichage plus joli (ce n'est pas exigé). (1 point)"
      ]
    },
    {
      "cell_type": "code",
      "metadata": {
        "colab": {
          "base_uri": "https://localhost:8080/",
          "height": 235
        },
        "id": "Au-I-6pM4cMG",
        "outputId": "9d758cd9-9d13-416e-bbbc-112e79045341"
      },
      "source": [
        "#En utilisant d'abord la librairie sklearn, j'importe la librairie et j'applique la transformation\n",
        "from sklearn.preprocessing import StandardScaler\n",
        "scaler = StandardScaler()\n",
        "# Je standardise\n",
        "X = scaler.fit_transform(data_nobel)\n",
        "# Puis je transforme en dataframe avec les index et colonnes utilisés prédécemment\n",
        "X = pd.DataFrame(data=X_correct,index=data_nobel.index,columns=data_nobel.columns)\n",
        "X.head()"
      ],
      "execution_count": 83,
      "outputs": [
        {
          "output_type": "execute_result",
          "data": {
            "text/html": [
              "<div>\n",
              "<style scoped>\n",
              "    .dataframe tbody tr th:only-of-type {\n",
              "        vertical-align: middle;\n",
              "    }\n",
              "\n",
              "    .dataframe tbody tr th {\n",
              "        vertical-align: top;\n",
              "    }\n",
              "\n",
              "    .dataframe thead th {\n",
              "        text-align: right;\n",
              "    }\n",
              "</style>\n",
              "<table border=\"1\" class=\"dataframe\">\n",
              "  <thead>\n",
              "    <tr style=\"text-align: right;\">\n",
              "      <th></th>\n",
              "      <th>Chimie</th>\n",
              "      <th>Economie</th>\n",
              "      <th>Littérature</th>\n",
              "      <th>Médecine</th>\n",
              "      <th>Paix</th>\n",
              "      <th>Physique</th>\n",
              "      <th>Mathématiques</th>\n",
              "      <th>Population</th>\n",
              "    </tr>\n",
              "    <tr>\n",
              "      <th>Pays ou région</th>\n",
              "      <th></th>\n",
              "      <th></th>\n",
              "      <th></th>\n",
              "      <th></th>\n",
              "      <th></th>\n",
              "      <th></th>\n",
              "      <th></th>\n",
              "      <th></th>\n",
              "    </tr>\n",
              "  </thead>\n",
              "  <tbody>\n",
              "    <tr>\n",
              "      <th>Allemagne</th>\n",
              "      <td>0.056758</td>\n",
              "      <td>-0.580203</td>\n",
              "      <td>-0.222175</td>\n",
              "      <td>-0.254551</td>\n",
              "      <td>-0.485759</td>\n",
              "      <td>-0.082202</td>\n",
              "      <td>-0.767755</td>\n",
              "      <td>-0.480618</td>\n",
              "    </tr>\n",
              "    <tr>\n",
              "      <th>Canada</th>\n",
              "      <td>-0.681098</td>\n",
              "      <td>-0.456553</td>\n",
              "      <td>-0.526205</td>\n",
              "      <td>-0.664536</td>\n",
              "      <td>-0.779474</td>\n",
              "      <td>-0.729850</td>\n",
              "      <td>-0.767755</td>\n",
              "      <td>-0.519527</td>\n",
              "    </tr>\n",
              "    <tr>\n",
              "      <th>France</th>\n",
              "      <td>-0.533527</td>\n",
              "      <td>-0.456553</td>\n",
              "      <td>-0.070161</td>\n",
              "      <td>-0.430259</td>\n",
              "      <td>-0.118616</td>\n",
              "      <td>-0.567938</td>\n",
              "      <td>0.353685</td>\n",
              "      <td>-0.494347</td>\n",
              "    </tr>\n",
              "    <tr>\n",
              "      <th>GB</th>\n",
              "      <td>0.019865</td>\n",
              "      <td>-0.271078</td>\n",
              "      <td>-0.272847</td>\n",
              "      <td>-0.020274</td>\n",
              "      <td>-0.045187</td>\n",
              "      <td>-0.211731</td>\n",
              "      <td>-0.431323</td>\n",
              "      <td>-0.494638</td>\n",
              "    </tr>\n",
              "    <tr>\n",
              "      <th>Italie</th>\n",
              "      <td>-0.791777</td>\n",
              "      <td>-0.580203</td>\n",
              "      <td>-0.323519</td>\n",
              "      <td>-0.635251</td>\n",
              "      <td>-0.779474</td>\n",
              "      <td>-0.697468</td>\n",
              "      <td>-0.767755</td>\n",
              "      <td>-0.500025</td>\n",
              "    </tr>\n",
              "  </tbody>\n",
              "</table>\n",
              "</div>"
            ],
            "text/plain": [
              "                  Chimie  Economie  ...  Mathématiques  Population\n",
              "Pays ou région                      ...                           \n",
              "Allemagne       0.056758 -0.580203  ...      -0.767755   -0.480618\n",
              "Canada         -0.681098 -0.456553  ...      -0.767755   -0.519527\n",
              "France         -0.533527 -0.456553  ...       0.353685   -0.494347\n",
              "GB              0.019865 -0.271078  ...      -0.431323   -0.494638\n",
              "Italie         -0.791777 -0.580203  ...      -0.767755   -0.500025\n",
              "\n",
              "[5 rows x 8 columns]"
            ]
          },
          "metadata": {
            "tags": []
          },
          "execution_count": 83
        }
      ]
    },
    {
      "cell_type": "code",
      "metadata": {
        "id": "hGJBKhrhHWgv",
        "colab": {
          "base_uri": "https://localhost:8080/",
          "height": 235
        },
        "outputId": "709711fe-1b31-4f3a-caa6-818d178672db"
      },
      "source": [
        "# Je réalise les mêmes calculs à la main pour vérifier mes valeurs précédentes pour Q10 et Q11\n",
        "my_X = data_nobel.apply(lambda row: (row-mean_vec)/std_vec, axis=1)\n",
        "my_X.head()\n",
        "# J'obtiens bien les mêmes résultats!"
      ],
      "execution_count": 84,
      "outputs": [
        {
          "output_type": "execute_result",
          "data": {
            "text/html": [
              "<div>\n",
              "<style scoped>\n",
              "    .dataframe tbody tr th:only-of-type {\n",
              "        vertical-align: middle;\n",
              "    }\n",
              "\n",
              "    .dataframe tbody tr th {\n",
              "        vertical-align: top;\n",
              "    }\n",
              "\n",
              "    .dataframe thead th {\n",
              "        text-align: right;\n",
              "    }\n",
              "</style>\n",
              "<table border=\"1\" class=\"dataframe\">\n",
              "  <thead>\n",
              "    <tr style=\"text-align: right;\">\n",
              "      <th></th>\n",
              "      <th>Chimie</th>\n",
              "      <th>Economie</th>\n",
              "      <th>Littérature</th>\n",
              "      <th>Médecine</th>\n",
              "      <th>Paix</th>\n",
              "      <th>Physique</th>\n",
              "      <th>Mathématiques</th>\n",
              "      <th>Population</th>\n",
              "    </tr>\n",
              "    <tr>\n",
              "      <th>Pays ou région</th>\n",
              "      <th></th>\n",
              "      <th></th>\n",
              "      <th></th>\n",
              "      <th></th>\n",
              "      <th></th>\n",
              "      <th></th>\n",
              "      <th></th>\n",
              "      <th></th>\n",
              "    </tr>\n",
              "  </thead>\n",
              "  <tbody>\n",
              "    <tr>\n",
              "      <th>Allemagne</th>\n",
              "      <td>0.056758</td>\n",
              "      <td>-0.580203</td>\n",
              "      <td>-0.222175</td>\n",
              "      <td>-0.254551</td>\n",
              "      <td>-0.485759</td>\n",
              "      <td>-0.082202</td>\n",
              "      <td>-0.767755</td>\n",
              "      <td>-0.480618</td>\n",
              "    </tr>\n",
              "    <tr>\n",
              "      <th>Canada</th>\n",
              "      <td>-0.681098</td>\n",
              "      <td>-0.456553</td>\n",
              "      <td>-0.526205</td>\n",
              "      <td>-0.664536</td>\n",
              "      <td>-0.779474</td>\n",
              "      <td>-0.729850</td>\n",
              "      <td>-0.767755</td>\n",
              "      <td>-0.519527</td>\n",
              "    </tr>\n",
              "    <tr>\n",
              "      <th>France</th>\n",
              "      <td>-0.533527</td>\n",
              "      <td>-0.456553</td>\n",
              "      <td>-0.070161</td>\n",
              "      <td>-0.430259</td>\n",
              "      <td>-0.118616</td>\n",
              "      <td>-0.567938</td>\n",
              "      <td>0.353685</td>\n",
              "      <td>-0.494347</td>\n",
              "    </tr>\n",
              "    <tr>\n",
              "      <th>GB</th>\n",
              "      <td>0.019865</td>\n",
              "      <td>-0.271078</td>\n",
              "      <td>-0.272847</td>\n",
              "      <td>-0.020274</td>\n",
              "      <td>-0.045187</td>\n",
              "      <td>-0.211731</td>\n",
              "      <td>-0.431323</td>\n",
              "      <td>-0.494638</td>\n",
              "    </tr>\n",
              "    <tr>\n",
              "      <th>Italie</th>\n",
              "      <td>-0.791777</td>\n",
              "      <td>-0.580203</td>\n",
              "      <td>-0.323519</td>\n",
              "      <td>-0.635251</td>\n",
              "      <td>-0.779474</td>\n",
              "      <td>-0.697468</td>\n",
              "      <td>-0.767755</td>\n",
              "      <td>-0.500025</td>\n",
              "    </tr>\n",
              "  </tbody>\n",
              "</table>\n",
              "</div>"
            ],
            "text/plain": [
              "                  Chimie  Economie  ...  Mathématiques  Population\n",
              "Pays ou région                      ...                           \n",
              "Allemagne       0.056758 -0.580203  ...      -0.767755   -0.480618\n",
              "Canada         -0.681098 -0.456553  ...      -0.767755   -0.519527\n",
              "France         -0.533527 -0.456553  ...       0.353685   -0.494347\n",
              "GB              0.019865 -0.271078  ...      -0.431323   -0.494638\n",
              "Italie         -0.791777 -0.580203  ...      -0.767755   -0.500025\n",
              "\n",
              "[5 rows x 8 columns]"
            ]
          },
          "metadata": {
            "tags": []
          },
          "execution_count": 84
        }
      ]
    },
    {
      "cell_type": "markdown",
      "metadata": {
        "id": "KaDu5RfQKY2f"
      },
      "source": [
        "13. Utiliser les fonctions `eig` et `dot` de la librairie `numpy` pour calculer les valeurs propres et vecteurs propres de la matrice des corrélations $(X^TX)/n$ où $n$ est le nombre de pays/régions et $X$ est la matrice des données centrées-réduites obtenue à la question précédente. De manière équivalente, vous pouvez utiliser la fonction `corrcoef` de la librairie `numpy` directement sur `data_nobel.T`. (C'est ainsi une façon de vérifier vos résultats, ou bien d'être en mesure de faire cette question même si vous n'avez pas fait la question 12.) Stocker ces valeurs propres et vecteurs propres dans des objets nommés `values` et `vectors`. Afficher la valeur de $\\lambda_1$, la plus grande valeur propre (vous devriez trouver une valeur très proche de 6). (1 point)"
      ]
    },
    {
      "cell_type": "code",
      "metadata": {
        "colab": {
          "base_uri": "https://localhost:8080/"
        },
        "id": "TXdlCUSn8ya7",
        "outputId": "4009f587-5ee2-4cd7-c563-af350e3d7dfd"
      },
      "source": [
        "#Je vérifie mes calculs qui suivent en affichant directement la vraie matrice de corrélation\n",
        "corr_mat = np.corrcoef(X.T)\n",
        "corr_mat"
      ],
      "execution_count": 99,
      "outputs": [
        {
          "output_type": "execute_result",
          "data": {
            "text/plain": [
              "array([[ 1.00000000e+00,  7.86328724e-01,  8.46658307e-01,\n",
              "         9.81150161e-01,  9.43419415e-01,  9.91103123e-01,\n",
              "         8.90133633e-01,  9.05348977e-02],\n",
              "       [ 7.86328724e-01,  1.00000000e+00,  4.10169812e-01,\n",
              "         8.60628733e-01,  6.62074639e-01,  8.43830306e-01,\n",
              "         6.35606455e-01,  1.52076943e-02],\n",
              "       [ 8.46658307e-01,  4.10169812e-01,  1.00000000e+00,\n",
              "         7.93718728e-01,  9.19575796e-01,  8.06967419e-01,\n",
              "         9.12598158e-01,  9.85060923e-02],\n",
              "       [ 9.81150161e-01,  8.60628733e-01,  7.93718728e-01,\n",
              "         1.00000000e+00,  9.11321574e-01,  9.85667116e-01,\n",
              "         8.73413866e-01, -8.97302114e-04],\n",
              "       [ 9.43419415e-01,  6.62074639e-01,  9.19575796e-01,\n",
              "         9.11321574e-01,  1.00000000e+00,  9.23627894e-01,\n",
              "         9.38889861e-01,  2.68177616e-01],\n",
              "       [ 9.91103123e-01,  8.43830306e-01,  8.06967419e-01,\n",
              "         9.85667116e-01,  9.23627894e-01,  1.00000000e+00,\n",
              "         8.87502827e-01,  8.62786328e-02],\n",
              "       [ 8.90133633e-01,  6.35606455e-01,  9.12598158e-01,\n",
              "         8.73413866e-01,  9.38889861e-01,  8.87502827e-01,\n",
              "         1.00000000e+00,  1.04872963e-01],\n",
              "       [ 9.05348977e-02,  1.52076943e-02,  9.85060923e-02,\n",
              "        -8.97302114e-04,  2.68177616e-01,  8.62786328e-02,\n",
              "         1.04872963e-01,  1.00000000e+00]])"
            ]
          },
          "metadata": {
            "tags": []
          },
          "execution_count": 99
        }
      ]
    },
    {
      "cell_type": "code",
      "metadata": {
        "id": "I95NjBltKqq1",
        "colab": {
          "base_uri": "https://localhost:8080/"
        },
        "outputId": "ccf10a36-f72c-4013-87f0-7a1fa015c49d"
      },
      "source": [
        "# Je m'aide du site : http://www.physics.utah.edu/~detar/lessons/python/numpy_eigen/node1.html et du petit guide PCA\n",
        "# J'importe la librairie d'algèbre linéaire\n",
        "from numpy import linalg as LA\n",
        "\n",
        "#Je calcule à la main la matrice de corrélation et je compare avec les résultats de la fonction corrcoef: j'ai la même !\n",
        "n=len(data_nobel)\n",
        "my_corr_mat = (np.dot(X.T, X))/n\n",
        "values, vectors = LA.eig(my_corr_mat)\n",
        "\n",
        "#Extraction et affichage de la première valeur propre, elle est bien proche de 6 !\n",
        "lambda_1 = values[0]\n",
        "print('La plus grande valeur propre est : {}.'.format(lambda_1))"
      ],
      "execution_count": 102,
      "outputs": [
        {
          "output_type": "stream",
          "text": [
            "La plus grande valeur propre est : 6.131665343911123.\n"
          ],
          "name": "stdout"
        }
      ]
    },
    {
      "cell_type": "markdown",
      "metadata": {
        "id": "1GIGzMBSPxW6"
      },
      "source": [
        "14. Post-multiplier la matrice des données centrées-réduites $X$ par le premier vecteur propre $v_1$ (associé à la plus grande valeur propre $\\lambda_1$) pour obtenir les coordonnées $C_1=Xv_1$ des observations après projection sur le premier axe principal. Vous noterez cet objet python `C1`. Faites de même pour le deuxième vecteur propre $v_2$ et noter l'objet résultant `C2`. Afficher le contenu de `C1`. (1 point)"
      ]
    },
    {
      "cell_type": "code",
      "metadata": {
        "id": "P5GqkBEGQX1-",
        "colab": {
          "base_uri": "https://localhost:8080/"
        },
        "outputId": "8d09142c-a88a-47b5-cacb-7fbaaa0b628e"
      },
      "source": [
        "# Extraction du premier vecteur propre v_1 et v_2\n",
        "v_1 = vectors[0]\n",
        "v_2 = vectors[1]\n",
        "# Calcul des coordonnées C1 et C2 après projection \n",
        "C1 = np.dot(X, v_1)\n",
        "C2 = np.dot(X, v_2)\n",
        "print('Le premier vecteur de coordonnées après projection est :')\n",
        "print(C1)"
      ],
      "execution_count": 111,
      "outputs": [
        {
          "output_type": "stream",
          "text": [
            "Le premier vecteur de coordonnées après projection est :\n",
            "[-0.82089207 -1.02071171  0.06457515 -0.37194436 -0.94260279 -0.84332029\n",
            " -0.344568    1.00081854 -0.81037511  1.38228061 -0.19254929  3.81256822\n",
            " -0.91327889]\n"
          ],
          "name": "stdout"
        }
      ]
    },
    {
      "cell_type": "markdown",
      "metadata": {
        "id": "LuodiFlMQsOG"
      },
      "source": [
        "15. Tracer le scatter plot de `C2` en fonction de `C1`. Ajouter sur chaque point les noms des pays et régions, et nommer l'axe horizontal \"Composante 1\" et l'axe vertical \"Composante 2\". (1 point)"
      ]
    },
    {
      "cell_type": "code",
      "metadata": {
        "id": "YaDHqyFwQxLl",
        "colab": {
          "base_uri": "https://localhost:8080/",
          "height": 458
        },
        "outputId": "fab6f664-e61f-4d5f-8612-b98811ca4a98"
      },
      "source": [
        "# Initialisation de la taille de la figure, dessin des points, labellisation des axes, et ajout d'un titre\n",
        "plt.figure(figsize=(10,7))\n",
        "sns.scatterplot(x=C1, y=C2)\n",
        "plt.xlabel('Composante 0')\n",
        "plt.ylabel('Composante 1')\n",
        "plt.title('Affichage de l\\'ACP à deux composante')\n",
        "\n",
        "#Code repris de mon TP1 et TP2\n",
        "#J'ajoute les étiquettes 'Pays ou région' sur chaque point\n",
        "libelles = []\n",
        "for i in range(len(data_nobel)):\n",
        "      libelles.append(plt.annotate(data_nobel.index[i], (C1[i], C2[i])))\n",
        "adjust_text(libelles)\n",
        "\n",
        "plt.show()"
      ],
      "execution_count": 125,
      "outputs": [
        {
          "output_type": "display_data",
          "data": {
            "image/png": "[encoded data removed]",
            "text/plain": [
              "<Figure size 720x504 with 1 Axes>"
            ]
          },
          "metadata": {
            "tags": [],
            "needs_background": "light"
          }
        }
      ]
    },
    {
      "cell_type": "markdown",
      "metadata": {
        "id": "RahuY1MLafUl"
      },
      "source": [
        "16. Faire la même chose qu'aux questions 13, 14 et 15 en utilisant la fonction `PCA` de la librairie `sklearn` comme on l'a vu en TP. Vous pouvez agrémenter le graphique que vous afficherez d'une belle légende avec la taille des points qui dépendra de la taille de la population. Il est bon de noter qu'un vecteur propre est défini au signe près. Ainsi, il est possible que le graphique obtenu ici soit en miroir pour l'un ou l'autre (ou les deux) des axes par rapport à celui que vous avez obtenu à la question 15. (1 point)"
      ]
    },
    {
      "cell_type": "code",
      "metadata": {
        "id": "BpxDajT8TY0b"
      },
      "source": [
        "# La fonction adjust_text, vue en TP, permet d'éviter des chevauchements de noms sur le graphique\n",
        "# !pip install adjustText \n",
        "# from adjustText import adjust_text\n",
        "# Déja fait plus haut !"
      ],
      "execution_count": 129,
      "outputs": []
    },
    {
      "cell_type": "code",
      "metadata": {
        "id": "l0B8t2IrY-5v",
        "colab": {
          "base_uri": "https://localhost:8080/",
          "height": 446
        },
        "outputId": "f34a1a8f-4455-42eb-a1a9-9dbeee74ec3d"
      },
      "source": [
        "# Importation de la librairie pour la PCA\n",
        "from sklearn.decomposition import PCA\n",
        "pca = PCA(n_components=2)\n",
        "\n",
        "data_pca = scaler.fit_transform(data_nobel)\n",
        "data_pca = pca.fit_transform(data_pca)\n",
        "\n",
        "data_nobel['Composante 0'] = data_pca[:,0]\n",
        "data_nobel['Composante 1'] = data_pca[:,1]\n",
        "\n",
        "\n",
        "plt.figure(figsize=(7,7))\n",
        "sns.scatterplot(x='Composante 0', y='Composante 1', data=data_nobel, size='Population', sizes=(20,1000))\n",
        "plt.legend(title='Population', bbox_to_anchor=(1.05, 1), loc='upper left', fontsize='xx-large')\n",
        "\n",
        "libelles = []\n",
        "for i in range(len(data_nobel)):\n",
        "      libelles.append(plt.annotate(data_nobel.index[i], (data_nobel['Composante 0'][i], data_nobel['Composante 1'][i])))\n",
        "adjust_text(libelles)\n",
        "\n",
        "plt.show()"
      ],
      "execution_count": 130,
      "outputs": [
        {
          "output_type": "display_data",
          "data": {
            "image/png": "[encoded data removed]",
            "text/plain": [
              "<Figure size 504x504 with 1 Axes>"
            ]
          },
          "metadata": {
            "tags": [],
            "needs_background": "light"
          }
        }
      ]
    },
    {
      "cell_type": "markdown",
      "metadata": {
        "id": "tKFu7Pv6a3D2"
      },
      "source": [
        "17. Calculer les scores individuels (de qualité de l'ACP) de tous les pays et régions et afficher les dans une belle table dont les lignes seront ordonnées par `scores` croissant et qui contiendra, dans cet ordre, les quatre variables: \"Composante1\", \"Composante2\", \"Population\" et \"scores\". L'index fera apparaître clairement les noms des `Pays ou région`. Interpréter. (1 point)"
      ]
    },
    {
      "cell_type": "code",
      "metadata": {
        "colab": {
          "base_uri": "https://localhost:8080/",
          "height": 483
        },
        "id": "5ZNoF1NSChjq",
        "outputId": "36900583-0c7f-4d2b-beeb-d6b04c179dbb"
      },
      "source": [
        "data_score\n"
      ],
      "execution_count": 139,
      "outputs": [
        {
          "output_type": "execute_result",
          "data": {
            "text/html": [
              "<div>\n",
              "<style scoped>\n",
              "    .dataframe tbody tr th:only-of-type {\n",
              "        vertical-align: middle;\n",
              "    }\n",
              "\n",
              "    .dataframe tbody tr th {\n",
              "        vertical-align: top;\n",
              "    }\n",
              "\n",
              "    .dataframe thead th {\n",
              "        text-align: right;\n",
              "    }\n",
              "</style>\n",
              "<table border=\"1\" class=\"dataframe\">\n",
              "  <thead>\n",
              "    <tr style=\"text-align: right;\">\n",
              "      <th></th>\n",
              "      <th>Composante 0</th>\n",
              "      <th>Composante 1</th>\n",
              "      <th>Population</th>\n",
              "      <th>Scores</th>\n",
              "    </tr>\n",
              "    <tr>\n",
              "      <th>Pays ou région</th>\n",
              "      <th></th>\n",
              "      <th></th>\n",
              "      <th></th>\n",
              "      <th></th>\n",
              "    </tr>\n",
              "  </thead>\n",
              "  <tbody>\n",
              "    <tr>\n",
              "      <th>Allemagne</th>\n",
              "      <td>-0.896886</td>\n",
              "      <td>-0.640313</td>\n",
              "      <td>83.020</td>\n",
              "      <td>-2.044217</td>\n",
              "    </tr>\n",
              "    <tr>\n",
              "      <th>Canada</th>\n",
              "      <td>-1.917380</td>\n",
              "      <td>-0.624581</td>\n",
              "      <td>37.590</td>\n",
              "      <td>-2.225772</td>\n",
              "    </tr>\n",
              "    <tr>\n",
              "      <th>France</th>\n",
              "      <td>-0.840110</td>\n",
              "      <td>-0.553174</td>\n",
              "      <td>66.990</td>\n",
              "      <td>-2.014283</td>\n",
              "    </tr>\n",
              "    <tr>\n",
              "      <th>GB</th>\n",
              "      <td>-0.491057</td>\n",
              "      <td>-0.659374</td>\n",
              "      <td>66.650</td>\n",
              "      <td>-2.013335</td>\n",
              "    </tr>\n",
              "    <tr>\n",
              "      <th>Italie</th>\n",
              "      <td>-1.902509</td>\n",
              "      <td>-0.584817</td>\n",
              "      <td>60.360</td>\n",
              "      <td>-2.211204</td>\n",
              "    </tr>\n",
              "    <tr>\n",
              "      <th>Japon</th>\n",
              "      <td>-1.766028</td>\n",
              "      <td>-0.512757</td>\n",
              "      <td>126.500</td>\n",
              "      <td>-2.160861</td>\n",
              "    </tr>\n",
              "    <tr>\n",
              "      <th>Russie</th>\n",
              "      <td>-1.416049</td>\n",
              "      <td>-0.480499</td>\n",
              "      <td>144.500</td>\n",
              "      <td>-2.081458</td>\n",
              "    </tr>\n",
              "    <tr>\n",
              "      <th>USA</th>\n",
              "      <td>2.656302</td>\n",
              "      <td>-0.772021</td>\n",
              "      <td>328.200</td>\n",
              "      <td>-2.491339</td>\n",
              "    </tr>\n",
              "    <tr>\n",
              "      <th>Afrique</th>\n",
              "      <td>-1.752916</td>\n",
              "      <td>0.867500</td>\n",
              "      <td>1216.000</td>\n",
              "      <td>-2.268725</td>\n",
              "    </tr>\n",
              "    <tr>\n",
              "      <th>Amérique</th>\n",
              "      <td>3.463760</td>\n",
              "      <td>0.019151</td>\n",
              "      <td>1002.000</td>\n",
              "      <td>-2.676633</td>\n",
              "    </tr>\n",
              "    <tr>\n",
              "      <th>Asie</th>\n",
              "      <td>-0.389850</td>\n",
              "      <td>4.728255</td>\n",
              "      <td>4463.000</td>\n",
              "      <td>-6.970599</td>\n",
              "    </tr>\n",
              "    <tr>\n",
              "      <th>Europe</th>\n",
              "      <td>7.228999</td>\n",
              "      <td>-0.159327</td>\n",
              "      <td>741.400</td>\n",
              "      <td>-5.290604</td>\n",
              "    </tr>\n",
              "    <tr>\n",
              "      <th>Océanie</th>\n",
              "      <td>-1.976278</td>\n",
              "      <td>-0.628043</td>\n",
              "      <td>38.277</td>\n",
              "      <td>-2.241611</td>\n",
              "    </tr>\n",
              "  </tbody>\n",
              "</table>\n",
              "</div>"
            ],
            "text/plain": [
              "                Composante 0  Composante 1  Population    Scores\n",
              "Pays ou région                                                  \n",
              "Allemagne          -0.896886     -0.640313      83.020 -2.044217\n",
              "Canada             -1.917380     -0.624581      37.590 -2.225772\n",
              "France             -0.840110     -0.553174      66.990 -2.014283\n",
              "GB                 -0.491057     -0.659374      66.650 -2.013335\n",
              "Italie             -1.902509     -0.584817      60.360 -2.211204\n",
              "Japon              -1.766028     -0.512757     126.500 -2.160861\n",
              "Russie             -1.416049     -0.480499     144.500 -2.081458\n",
              "USA                 2.656302     -0.772021     328.200 -2.491339\n",
              "Afrique            -1.752916      0.867500    1216.000 -2.268725\n",
              "Amérique            3.463760      0.019151    1002.000 -2.676633\n",
              "Asie               -0.389850      4.728255    4463.000 -6.970599\n",
              "Europe              7.228999     -0.159327     741.400 -5.290604\n",
              "Océanie            -1.976278     -0.628043      38.277 -2.241611"
            ]
          },
          "metadata": {
            "tags": []
          },
          "execution_count": 139
        }
      ]
    },
    {
      "cell_type": "code",
      "metadata": {
        "id": "QkpHWiqNbC4y",
        "colab": {
          "base_uri": "https://localhost:8080/",
          "height": 235
        },
        "outputId": "8f12249b-899c-41de-b0eb-43779d627dc7"
      },
      "source": [
        "# Je supprime les colonnes que je ne veux pas, et met dans le bon ordre les colonnes à conserver\n",
        "domaines = ['Chimie','Economie','Littérature'\t,'Médecine',\t'Paix',\t'Physique',\t'Mathématiques', 'Population']\n",
        "data_score = data_nobel.drop(columns=domaines, axis=1)\n",
        "data_score['Population'] = data_nobel['Population']\n",
        "#Je reconstruis les données et calcule les scores\n",
        "reconstruction = pca.inverse_transform(data_pca)\n",
        "data_score['Scores'] = pca.score_samples(reconstruction)\n",
        "#Je trie le tableau suivant les scores croissants\n",
        "data_score = data_score.sort_values(by='Scores')\n",
        "data_score.head()"
      ],
      "execution_count": 141,
      "outputs": [
        {
          "output_type": "execute_result",
          "data": {
            "text/html": [
              "<div>\n",
              "<style scoped>\n",
              "    .dataframe tbody tr th:only-of-type {\n",
              "        vertical-align: middle;\n",
              "    }\n",
              "\n",
              "    .dataframe tbody tr th {\n",
              "        vertical-align: top;\n",
              "    }\n",
              "\n",
              "    .dataframe thead th {\n",
              "        text-align: right;\n",
              "    }\n",
              "</style>\n",
              "<table border=\"1\" class=\"dataframe\">\n",
              "  <thead>\n",
              "    <tr style=\"text-align: right;\">\n",
              "      <th></th>\n",
              "      <th>Composante 0</th>\n",
              "      <th>Composante 1</th>\n",
              "      <th>Population</th>\n",
              "      <th>Scores</th>\n",
              "    </tr>\n",
              "    <tr>\n",
              "      <th>Pays ou région</th>\n",
              "      <th></th>\n",
              "      <th></th>\n",
              "      <th></th>\n",
              "      <th></th>\n",
              "    </tr>\n",
              "  </thead>\n",
              "  <tbody>\n",
              "    <tr>\n",
              "      <th>Asie</th>\n",
              "      <td>-0.389850</td>\n",
              "      <td>4.728255</td>\n",
              "      <td>4463.0</td>\n",
              "      <td>-6.970599</td>\n",
              "    </tr>\n",
              "    <tr>\n",
              "      <th>Europe</th>\n",
              "      <td>7.228999</td>\n",
              "      <td>-0.159327</td>\n",
              "      <td>741.4</td>\n",
              "      <td>-5.290604</td>\n",
              "    </tr>\n",
              "    <tr>\n",
              "      <th>Amérique</th>\n",
              "      <td>3.463760</td>\n",
              "      <td>0.019151</td>\n",
              "      <td>1002.0</td>\n",
              "      <td>-2.676633</td>\n",
              "    </tr>\n",
              "    <tr>\n",
              "      <th>USA</th>\n",
              "      <td>2.656302</td>\n",
              "      <td>-0.772021</td>\n",
              "      <td>328.2</td>\n",
              "      <td>-2.491339</td>\n",
              "    </tr>\n",
              "    <tr>\n",
              "      <th>Afrique</th>\n",
              "      <td>-1.752916</td>\n",
              "      <td>0.867500</td>\n",
              "      <td>1216.0</td>\n",
              "      <td>-2.268725</td>\n",
              "    </tr>\n",
              "  </tbody>\n",
              "</table>\n",
              "</div>"
            ],
            "text/plain": [
              "                Composante 0  Composante 1  Population    Scores\n",
              "Pays ou région                                                  \n",
              "Asie               -0.389850      4.728255      4463.0 -6.970599\n",
              "Europe              7.228999     -0.159327       741.4 -5.290604\n",
              "Amérique            3.463760      0.019151      1002.0 -2.676633\n",
              "USA                 2.656302     -0.772021       328.2 -2.491339\n",
              "Afrique            -1.752916      0.867500      1216.0 -2.268725"
            ]
          },
          "metadata": {
            "tags": []
          },
          "execution_count": 141
        }
      ]
    },
    {
      "cell_type": "markdown",
      "metadata": {
        "id": "in2GaHnkb_59"
      },
      "source": [
        "18. Faire un graphique du pourcentage de variance expliquée cumulée. Que constatez-vous? (1 point)"
      ]
    },
    {
      "cell_type": "code",
      "metadata": {
        "id": "XE7ixWqMcXRC",
        "colab": {
          "base_uri": "https://localhost:8080/",
          "height": 295
        },
        "outputId": "539c8876-c426-4cf4-bb38-b5add062373d"
      },
      "source": [
        "# Production du graphique de variance cumulée\n",
        "plt.figure(figsize=(8,4))\n",
        "plt.plot(pca.explained_variance_ratio_.cumsum())\n",
        "plt.title('Proportion cumulée de la variance expliquée')\n",
        "plt.xlabel('Composantes')\n",
        "plt.ylabel('Proportion expliquée')\n",
        "plt.grid() \n",
        "#On remarque que la variance cumulée est linéaire ! \n",
        "#Cela siginfie que chaque composnte contient autant d'information, les première n'en ont pas plus que les autres"
      ],
      "execution_count": 145,
      "outputs": [
        {
          "output_type": "display_data",
          "data": {
            "image/png": "[encoded data removed]",
            "text/plain": [
              "<Figure size 576x288 with 1 Axes>"
            ]
          },
          "metadata": {
            "tags": [],
            "needs_background": "light"
          }
        }
      ]
    },
    {
      "cell_type": "markdown",
      "metadata": {
        "id": "LZpVobA8mhR2"
      },
      "source": [
        "19. Calculer la corrélation entre la composante 1 et chacune des 8 variables du jeu de données `data_nobel`. Faites de même pour la deuxième composante. Afficher ces valeurs de corrélation dans une table de dimension $8\\times2$ faisant clairement apparaître les noms des pays ou régions en ligne, et les noms \"Composante1\" et \"Composante2\" pour les deux colonnes. (1 point)"
      ]
    },
    {
      "cell_type": "code",
      "metadata": {
        "id": "2j328-N6m-HB"
      },
      "source": [
        "# VOTRE CODE ICI"
      ],
      "execution_count": null,
      "outputs": []
    },
    {
      "cell_type": "markdown",
      "metadata": {
        "id": "vjsiit0gsZ9U"
      },
      "source": [
        "20. Servez-vous de ces résultats pour interpréter les deux axes du nuage de points de la question 15 (ou 16). (1 point)"
      ]
    },
    {
      "cell_type": "markdown",
      "metadata": {
        "id": "FgZVwlXg3LYf"
      },
      "source": [
        "**Interprétation:**\n",
        "..."
      ]
    }
  ]
}
